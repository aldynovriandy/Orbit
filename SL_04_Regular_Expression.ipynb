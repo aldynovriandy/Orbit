{
  "nbformat": 4,
  "nbformat_minor": 0,
  "metadata": {
    "colab": {
      "name": "SL_04_Regular_Expression.ipynb",
      "provenance": [],
      "collapsed_sections": [],
      "include_colab_link": true
    },
    "kernelspec": {
      "name": "python3",
      "display_name": "Python 3"
    },
    "language_info": {
      "name": "python"
    }
  },
  "cells": [
    {
      "cell_type": "markdown",
      "metadata": {
        "id": "view-in-github",
        "colab_type": "text"
      },
      "source": [
        "<a href=\"https://colab.research.google.com/github/aldynovriandy/Orbit/blob/main/SL_04_Regular_Expression.ipynb\" target=\"_parent\"><img src=\"https://colab.research.google.com/assets/colab-badge.svg\" alt=\"Open In Colab\"/></a>"
      ]
    },
    {
      "cell_type": "markdown",
      "metadata": {
        "id": "tD1dCGY2JNXI"
      },
      "source": [
        "## Regular Expression (Regex)\n",
        "> Library untuk pengenalan dan pengelolaan pola pada teks\n",
        "> \n",
        "\n",
        "Contoh implementasi:\n",
        "- Pola Email\n",
        "- Pola Nomor telepon\n",
        "- Pola url\n",
        "- Pola Nomor plat kendaraan bermotor \n",
        "- Menghilangkan karakter khusus pada teks\n",
        "- dll."
      ]
    },
    {
      "cell_type": "markdown",
      "source": [
        "**Contoh Syntax dan Aturan-aturan pada class Regex**\n",
        "\n",
        "---\n",
        "Kelas Karakter\n",
        "---\n",
        "\n",
        "*   [ abc] = karakter a ,b atau c (kelas sederhana)\n",
        "*   [^abc] = kecuali karakter a ,b ,atau (negasi)\n",
        "*   [a-zA-Z] = karakter a sampai z huruf kecil , atau A sampai Z huruf besar ,(jarak)\n",
        "*   [a-z[x-y]] = karakter a sampai d ,atau m sampai p (a-xy-z : gabungan)\n",
        "*   [a-z0-9] = karakter a sampai z ,atau angka dari 0 sampai 9\n",
        "*   [a-z&&[^bc] = karakter a sampi z, kecuali untuk b dan c.\n",
        "\n",
        "---\n",
        "Meta Karakter\n",
        "---\n",
        "*   . = tanda titik ,yang berarti karakter apa saja\n",
        "*   \\d = angka digit apa saja:, seperti [0-9]\n",
        "*   \\D = selain angka digit : [^0-9]\n",
        "*   \\s = sebuah spasi pada kaarkter, seperti [ \\t\\n\\x0B\\f\\r]\n",
        "*   \\S = selain spasi pada karakter: [^\\s]\n",
        "*   \\w = huruf dan angka apa saja ,seperti [a-zA-Z_0-9]\n",
        "*   \\W = selain angka dan huruf ,[\\w]\n",
        "\n",
        "---\n",
        "Batasan Kecocokan Karakter\n",
        "---\n",
        "*   ^ = tanda awalan\n",
        "*   $ = tanda akhiran\n",
        "*   \\b = batasan kecocokan kata\n",
        "*   \\B = batasan kecocokan selain kata\n",
        "*   \\A = awalan untuk input text\n",
        "*   \\G = akhir dari kecocokan sebelumnya\n",
        "*   \\Z = akhir dari input text, kecuali final terminator jika ada\n",
        "*   \\z = akhir dari input text\n"
      ],
      "metadata": {
        "id": "T6tL_83E4oc1"
      }
    },
    {
      "cell_type": "markdown",
      "metadata": {
        "id": "G0BL3jxVVM7m"
      },
      "source": [
        "---"
      ]
    },
    {
      "cell_type": "code",
      "metadata": {
        "id": "cckM0ieQI6_p"
      },
      "source": [
        "# Import Library Regex (re)\n",
        "import re\n",
        "\n",
        "# Pola Email\n",
        "email_pattern = re.compile(r''[\\w._%+-]+@[\\w\\.-]+\\.[a-zA-Z]{2,4})\n",
        "txt = 'Contact kami di admin@thenextyunikorn.id, sales@yunikornbaru.com, atau hrd@yunikornindo.id'\n",
        "\n"
      ],
      "execution_count": null,
      "outputs": []
    },
    {
      "cell_type": "markdown",
      "metadata": {
        "id": "-vfDDYYyXzjB"
      },
      "source": [
        "### Pola Email"
      ]
    },
    {
      "cell_type": "code",
      "metadata": {
        "colab": {
          "base_uri": "https://localhost:8080/"
        },
        "id": "eHLVDWodMsfQ",
        "outputId": "a73e1c5b-31bc-4839-da90-b4f7368f78b0"
      },
      "source": [
        "# Menghapus Email dalam teks\n",
        "print( re.sub(email_pattern, ' ', txt))"
      ],
      "execution_count": null,
      "outputs": [
        {
          "output_type": "stream",
          "name": "stdout",
          "text": [
            "Contact kami di  ,  , atau  \n"
          ]
        }
      ]
    },
    {
      "cell_type": "code",
      "metadata": {
        "colab": {
          "base_uri": "https://localhost:8080/"
        },
        "id": "dgmUPJv2Mp_T",
        "outputId": "e1a82664-ead6-41dd-f561-bca2dd9ba49e"
      },
      "source": [
        "# Mengambil email dari teks berdasarkan pola regex yang ditentukan\n",
        "emails = re.findall(email_pattern, txt)\n",
        "print( 'Email yang ditemukan: ', emails)"
      ],
      "execution_count": null,
      "outputs": [
        {
          "output_type": "stream",
          "name": "stdout",
          "text": [
            "Email yang ditemukan:  ['admin@thenextyunikorn.id', 'sales@yunikornbaru.com', 'hrd@yunikornindo.id']\n"
          ]
        }
      ]
    },
    {
      "cell_type": "markdown",
      "metadata": {
        "id": "oW4i5z3qX2jk"
      },
      "source": [
        "### Pola Nomor Telepon"
      ]
    },
    {
      "cell_type": "code",
      "metadata": {
        "id": "n6bvuA4QSOCh"
      },
      "source": [
        "# Pola telephone : \\d penanda angka di reguler Expression, \\s spasi, dan \"|\" adalah \"atau\"\n",
        "# \"?\" menyatakan pilihan (optional)\n",
        "phone_pattern = re.compile(r'(\\d{3}[-\\.\\s]??\\d{3}[-\\.\\s]??\\d{4,6}|\\(\\d{3}\\)\\s*\\d{3}[-\\.\\s]??\\d{4,6}|\\d{3,4}[-\\.\\s]??\\d{4,6})')\n",
        "txt = 'Contact kami di 021-7632456 atau 021-443-4162 atau 021 797 4524 atau 0822959020 atau +628199258643'"
      ],
      "execution_count": null,
      "outputs": []
    },
    {
      "cell_type": "code",
      "metadata": {
        "colab": {
          "base_uri": "https://localhost:8080/"
        },
        "id": "FInY3LDaMDxn",
        "outputId": "ab2b2e6a-a1eb-4728-ba40-f49983f85451"
      },
      "source": [
        "# Sensor *** untuk pola Nomor Telepon\n",
        "print(re.sub(phone_pattern,'***',txt))"
      ],
      "execution_count": null,
      "outputs": [
        {
          "output_type": "stream",
          "name": "stdout",
          "text": [
            "Contact kami di *** atau *** atau *** atau *** atau +***\n"
          ]
        }
      ]
    },
    {
      "cell_type": "code",
      "metadata": {
        "colab": {
          "base_uri": "https://localhost:8080/"
        },
        "id": "eRAXR0apSsqN",
        "outputId": "b4696846-e7d4-4946-a1a5-38cbd2c33e71"
      },
      "source": [
        "# Mengambil nomor telepon dari teks berdasarkan pola regex yang telah ditentukan\n",
        "phone_numbers = re.findall(phone_pattern,txt)\n",
        "print('Nomer telephone yang ditemukan: ', str(phone_numbers))"
      ],
      "execution_count": null,
      "outputs": [
        {
          "output_type": "stream",
          "name": "stdout",
          "text": [
            "Nomer telephone yang ditemukan:  ['021-7632456', '021-443-4162', '021 797 4524', '0822959020', '628199258643']\n"
          ]
        }
      ]
    },
    {
      "cell_type": "markdown",
      "metadata": {
        "id": "ncMVez6hX5U6"
      },
      "source": [
        "Pola URL atau Link"
      ]
    },
    {
      "cell_type": "code",
      "metadata": {
        "id": "dvzYKfUtTJBt"
      },
      "source": [
        "# Website URL http(s)\n",
        "url_pattern = re.compile(r'www|http:|https:+[^\\s]+[\\w]')\n",
        "txt = 'Teman teman dapat mengunjungi link berikut untuk sumber belajar: https://www.regular-expressions.info/ atau https://www.towardsdatascience.com atau https://wikipedia.org'\n"
      ],
      "execution_count": null,
      "outputs": []
    },
    {
      "cell_type": "code",
      "metadata": {
        "colab": {
          "base_uri": "https://localhost:8080/"
        },
        "id": "P-qHHhJVY4Ns",
        "outputId": "3c7815bd-1c68-4f7f-af16-4c28611dc65d"
      },
      "source": [
        "# Menghapus url pada teks\n",
        "print(re.sub(url_pattern,' ',txt))"
      ],
      "execution_count": null,
      "outputs": [
        {
          "output_type": "stream",
          "name": "stdout",
          "text": [
            "Teman teman dapat mengunjungi link berikut untuk sumber belajar:  / atau   atau  \n"
          ]
        }
      ]
    },
    {
      "cell_type": "code",
      "metadata": {
        "colab": {
          "base_uri": "https://localhost:8080/"
        },
        "id": "NpUs-ZGbYpsQ",
        "outputId": "e20b7fb9-9f6a-4b96-92a0-011ea7e2a88c"
      },
      "source": [
        "# Mengambil url dari teks berdasarkan pola regex yang telah ditentukan\n",
        "urls = re.findall(url_pattern,txt)# get urls\n",
        "print('URL yang ditemukan: ',str(urls))"
      ],
      "execution_count": null,
      "outputs": [
        {
          "output_type": "stream",
          "name": "stdout",
          "text": [
            "URL yang ditemukan:  ['https://www.regular-expressions.info', 'https://www.towardsdatascience.com', 'https://wikipedia.org']\n"
          ]
        }
      ]
    },
    {
      "cell_type": "markdown",
      "metadata": {
        "id": "xHzYEMeZiYPf"
      },
      "source": [
        "### Pola Plat Kendaraan Bermotor"
      ]
    },
    {
      "cell_type": "code",
      "metadata": {
        "id": "DdEdAhAZZIPv"
      },
      "source": [
        "plat_pattern = re.compile(r'[A-Z]{1,2}\\s\\d{1,4}\\s[A-Z]{1,3}')\n",
        "text = \"Mr.X punya 2 motor dan 1 mobil. Adapun plat nomornya yaitu B 234 AA, C 3244 YGS, dan D 3 S.\""
      ],
      "execution_count": null,
      "outputs": []
    },
    {
      "cell_type": "code",
      "metadata": {
        "colab": {
          "base_uri": "https://localhost:8080/"
        },
        "id": "idDWbJVTjC5u",
        "outputId": "0aed70a8-e925-4496-8001-f140c64cc6f4"
      },
      "source": [
        "# Menghapus plat kendaraan pada teks\n",
        "print(re.sub(plat_pattern, ' ', text))"
      ],
      "execution_count": null,
      "outputs": [
        {
          "output_type": "stream",
          "name": "stdout",
          "text": [
            "Mr.X punya 2 motor dan 1 mobil. Adapun plat nomornya yaitu  ,  , dan  .\n"
          ]
        }
      ]
    },
    {
      "cell_type": "code",
      "metadata": {
        "colab": {
          "base_uri": "https://localhost:8080/"
        },
        "id": "QpvW1tBCjkYZ",
        "outputId": "e2cf8469-52b0-4935-87d8-c2adbdefcfc1"
      },
      "source": [
        "kumpulan_plat_kendaraan = re.findall(plat_pattern, text)\n",
        "print(kumpulan_plat_kendaraan)"
      ],
      "execution_count": null,
      "outputs": [
        {
          "output_type": "stream",
          "name": "stdout",
          "text": [
            "['B 234 AA', 'C 3244 YGS', 'D 3 S']\n"
          ]
        }
      ]
    },
    {
      "cell_type": "markdown",
      "metadata": {
        "id": "bmPJi8RXmYrS"
      },
      "source": [
        "### Menghilangkan Karakter Khusus"
      ]
    },
    {
      "cell_type": "code",
      "metadata": {
        "colab": {
          "base_uri": "https://localhost:8080/"
        },
        "id": "Wr_Y9lvTjtrj",
        "outputId": "2f80aa63-1c84-4ed8-b36d-668499458f51"
      },
      "source": [
        "text = \"Halo @Hyeri, apa kabar? #SapaKawan.\"\n",
        "result = re.sub(r'[@,.?#]', '', text)\n",
        "print(result)"
      ],
      "execution_count": null,
      "outputs": [
        {
          "output_type": "stream",
          "name": "stdout",
          "text": [
            "Halo Hyeri apa kabar SapaKawan\n"
          ]
        }
      ]
    },
    {
      "cell_type": "markdown",
      "source": [
        "**Crawling Data Form Twitter**"
      ],
      "metadata": {
        "id": "zBjVteUjlx2t"
      }
    },
    {
      "cell_type": "markdown",
      "source": [
        "Import Library"
      ],
      "metadata": {
        "id": "tLHH3I1Rl6nM"
      }
    },
    {
      "cell_type": "code",
      "source": [
        "import os\n",
        "import csv\n",
        "import tweepy as tw\n",
        "import pandas as pd"
      ],
      "metadata": {
        "id": "oP7tdr00lhLD"
      },
      "execution_count": null,
      "outputs": []
    },
    {
      "cell_type": "markdown",
      "source": [
        "Call API"
      ],
      "metadata": {
        "id": "NQE0zBmhl73d"
      }
    },
    {
      "cell_type": "code",
      "source": [
        "access_token = \"3760416139-MLn5ifjLKCSXh4dWrgmOsSpQ6lYvefNkbQNuM35\"\n",
        "access_token_secret =\"KsKpKqYwCli8YDNJg15y8ZW0quVlfGwrUCrOX4xLZHMaE\"\n",
        "consumer_key =\"gchYjFhHc48sIveGC8fMVa2Sw\"\n",
        "consumer_secret=\"F4wR4cp8CIcAhkUgVFtrOZDg9CDKaroN9O0dkh2vSxgubnoKCb\""
      ],
      "metadata": {
        "id": "c585-U6ZlhIw"
      },
      "execution_count": null,
      "outputs": []
    },
    {
      "cell_type": "markdown",
      "source": [
        "Atutentifikasi ke Twitter"
      ],
      "metadata": {
        "id": "px90cJD-mL8v"
      }
    },
    {
      "cell_type": "code",
      "source": [
        "auth = tw.OAuthHandler(consumer_key, consumer_secret)\n",
        "auth.set_access_token(access_token, access_token_secret)\n",
        "api = tw.API(auth, wait_on_rate_limit=True)"
      ],
      "metadata": {
        "id": "Q0ZyssIllhF3"
      },
      "execution_count": null,
      "outputs": []
    },
    {
      "cell_type": "markdown",
      "source": [
        "Pencarian Topik"
      ],
      "metadata": {
        "id": "KFF5OIEnmQXO"
      }
    },
    {
      "cell_type": "code",
      "source": [
        "search_words = \"shopeepaylater\""
      ],
      "metadata": {
        "id": "beBHkj6hlhCu"
      },
      "execution_count": null,
      "outputs": []
    },
    {
      "cell_type": "code",
      "source": [
        "csvFile = open('Shopeepay.csv', 'a')\n",
        "#Use csv Writer\n",
        "csvWriter = csv.writer(csvFile)\n",
        "\n",
        "ids = set()\n",
        "csvWriter.writerow(['timetweet','isitweet','favcount', 'retwcount','id','name'])\n",
        "\n",
        "csvFile.close()"
      ],
      "metadata": {
        "id": "OupqCOYqlg-y"
      },
      "execution_count": null,
      "outputs": []
    },
    {
      "cell_type": "code",
      "source": [
        "csvFile = open('Shopeepay.csv', 'a')\n",
        "#Use csv Writer\n",
        "csvWriter = csv.writer(csvFile)\n",
        "\n",
        "ids = set()\n",
        "\n",
        "for tweet in  tw.Cursor(api.search,\n",
        "                   q=search_words,\n",
        "                   date ='2020-12-12', \n",
        "                   lang='id', \n",
        "                   tweet_mode = 'extended').items(90000):\n",
        "  #if (not tweet.retweeted) and ('RT @' not in tweet.full_text):\n",
        "    #Write a row to the csv file/ I use encode utf-8\n",
        "    csvWriter.writerow([tweet.created_at, tweet.full_text.encode('utf_8'), tweet.favorite_count, tweet.retweet_count, tweet.id, tweet.user.screen_name])\n",
        "    #print \"...%s tweets downloaded so far\" % (len(tweet.id))\n",
        "    ids.add(tweet.id) # add new id\n",
        "    #print (\"number of unique ids seen so far: {}\",format(len(ids)))\n",
        "csvFile.close()"
      ],
      "metadata": {
        "id": "tw0Rl7J7lg6e"
      },
      "execution_count": null,
      "outputs": []
    },
    {
      "cell_type": "code",
      "source": [
        "#with open(path, 'rb') as f: contens = f.read()\n",
        "df = pd.read_csv('Shopeepay.csv')\n",
        "df.head()"
      ],
      "metadata": {
        "colab": {
          "base_uri": "https://localhost:8080/",
          "height": 206
        },
        "id": "6x-KbLAvlg3g",
        "outputId": "343a7bb0-8558-4c46-f8ad-a55fafc91a9e"
      },
      "execution_count": null,
      "outputs": [
        {
          "output_type": "execute_result",
          "data": {
            "text/plain": [
              "             timetweet                                           isitweet  \\\n",
              "0  2022-03-22 04:10:49  b'\\xe2\\x98\\x86OPEN CONVERT / CV / PINDAH SALDO...   \n",
              "1  2022-03-22 04:00:01  b'\\xf0\\x9f\\x92\\xabHi, open jasa gestun/cairin/...   \n",
              "2  2022-03-22 03:49:32     b'cara non aktifin shopeepaylater gimana ya??'   \n",
              "3  2022-03-22 03:42:51  b'Halooo yang mau gestun - gesek tunai cairin ...   \n",
              "4  2022-03-22 03:30:00  b'\\xf0\\x9f\\x92\\xabHiiii, aku open jasa gestun/...   \n",
              "\n",
              "   favcount  retwcount                   id            name  \n",
              "0         0          0  1506121192562130944      CUANFORLYF  \n",
              "1         0          0  1506118473268748289   anakkosnangor  \n",
              "2         0          0  1506115836020654083  urasawachamois  \n",
              "3         0          0  1506114156130631680       truffflle  \n",
              "4         0          0  1506110921709658119   anakkosnangor  "
            ],
            "text/html": [
              "\n",
              "  <div id=\"df-8ca44d14-6861-48ca-9e0b-16c4a76e17f9\">\n",
              "    <div class=\"colab-df-container\">\n",
              "      <div>\n",
              "<style scoped>\n",
              "    .dataframe tbody tr th:only-of-type {\n",
              "        vertical-align: middle;\n",
              "    }\n",
              "\n",
              "    .dataframe tbody tr th {\n",
              "        vertical-align: top;\n",
              "    }\n",
              "\n",
              "    .dataframe thead th {\n",
              "        text-align: right;\n",
              "    }\n",
              "</style>\n",
              "<table border=\"1\" class=\"dataframe\">\n",
              "  <thead>\n",
              "    <tr style=\"text-align: right;\">\n",
              "      <th></th>\n",
              "      <th>timetweet</th>\n",
              "      <th>isitweet</th>\n",
              "      <th>favcount</th>\n",
              "      <th>retwcount</th>\n",
              "      <th>id</th>\n",
              "      <th>name</th>\n",
              "    </tr>\n",
              "  </thead>\n",
              "  <tbody>\n",
              "    <tr>\n",
              "      <th>0</th>\n",
              "      <td>2022-03-22 04:10:49</td>\n",
              "      <td>b'\\xe2\\x98\\x86OPEN CONVERT / CV / PINDAH SALDO...</td>\n",
              "      <td>0</td>\n",
              "      <td>0</td>\n",
              "      <td>1506121192562130944</td>\n",
              "      <td>CUANFORLYF</td>\n",
              "    </tr>\n",
              "    <tr>\n",
              "      <th>1</th>\n",
              "      <td>2022-03-22 04:00:01</td>\n",
              "      <td>b'\\xf0\\x9f\\x92\\xabHi, open jasa gestun/cairin/...</td>\n",
              "      <td>0</td>\n",
              "      <td>0</td>\n",
              "      <td>1506118473268748289</td>\n",
              "      <td>anakkosnangor</td>\n",
              "    </tr>\n",
              "    <tr>\n",
              "      <th>2</th>\n",
              "      <td>2022-03-22 03:49:32</td>\n",
              "      <td>b'cara non aktifin shopeepaylater gimana ya??'</td>\n",
              "      <td>0</td>\n",
              "      <td>0</td>\n",
              "      <td>1506115836020654083</td>\n",
              "      <td>urasawachamois</td>\n",
              "    </tr>\n",
              "    <tr>\n",
              "      <th>3</th>\n",
              "      <td>2022-03-22 03:42:51</td>\n",
              "      <td>b'Halooo yang mau gestun - gesek tunai cairin ...</td>\n",
              "      <td>0</td>\n",
              "      <td>0</td>\n",
              "      <td>1506114156130631680</td>\n",
              "      <td>truffflle</td>\n",
              "    </tr>\n",
              "    <tr>\n",
              "      <th>4</th>\n",
              "      <td>2022-03-22 03:30:00</td>\n",
              "      <td>b'\\xf0\\x9f\\x92\\xabHiiii, aku open jasa gestun/...</td>\n",
              "      <td>0</td>\n",
              "      <td>0</td>\n",
              "      <td>1506110921709658119</td>\n",
              "      <td>anakkosnangor</td>\n",
              "    </tr>\n",
              "  </tbody>\n",
              "</table>\n",
              "</div>\n",
              "      <button class=\"colab-df-convert\" onclick=\"convertToInteractive('df-8ca44d14-6861-48ca-9e0b-16c4a76e17f9')\"\n",
              "              title=\"Convert this dataframe to an interactive table.\"\n",
              "              style=\"display:none;\">\n",
              "        \n",
              "  <svg xmlns=\"http://www.w3.org/2000/svg\" height=\"24px\"viewBox=\"0 0 24 24\"\n",
              "       width=\"24px\">\n",
              "    <path d=\"M0 0h24v24H0V0z\" fill=\"none\"/>\n",
              "    <path d=\"M18.56 5.44l.94 2.06.94-2.06 2.06-.94-2.06-.94-.94-2.06-.94 2.06-2.06.94zm-11 1L8.5 8.5l.94-2.06 2.06-.94-2.06-.94L8.5 2.5l-.94 2.06-2.06.94zm10 10l.94 2.06.94-2.06 2.06-.94-2.06-.94-.94-2.06-.94 2.06-2.06.94z\"/><path d=\"M17.41 7.96l-1.37-1.37c-.4-.4-.92-.59-1.43-.59-.52 0-1.04.2-1.43.59L10.3 9.45l-7.72 7.72c-.78.78-.78 2.05 0 2.83L4 21.41c.39.39.9.59 1.41.59.51 0 1.02-.2 1.41-.59l7.78-7.78 2.81-2.81c.8-.78.8-2.07 0-2.86zM5.41 20L4 18.59l7.72-7.72 1.47 1.35L5.41 20z\"/>\n",
              "  </svg>\n",
              "      </button>\n",
              "      \n",
              "  <style>\n",
              "    .colab-df-container {\n",
              "      display:flex;\n",
              "      flex-wrap:wrap;\n",
              "      gap: 12px;\n",
              "    }\n",
              "\n",
              "    .colab-df-convert {\n",
              "      background-color: #E8F0FE;\n",
              "      border: none;\n",
              "      border-radius: 50%;\n",
              "      cursor: pointer;\n",
              "      display: none;\n",
              "      fill: #1967D2;\n",
              "      height: 32px;\n",
              "      padding: 0 0 0 0;\n",
              "      width: 32px;\n",
              "    }\n",
              "\n",
              "    .colab-df-convert:hover {\n",
              "      background-color: #E2EBFA;\n",
              "      box-shadow: 0px 1px 2px rgba(60, 64, 67, 0.3), 0px 1px 3px 1px rgba(60, 64, 67, 0.15);\n",
              "      fill: #174EA6;\n",
              "    }\n",
              "\n",
              "    [theme=dark] .colab-df-convert {\n",
              "      background-color: #3B4455;\n",
              "      fill: #D2E3FC;\n",
              "    }\n",
              "\n",
              "    [theme=dark] .colab-df-convert:hover {\n",
              "      background-color: #434B5C;\n",
              "      box-shadow: 0px 1px 3px 1px rgba(0, 0, 0, 0.15);\n",
              "      filter: drop-shadow(0px 1px 2px rgba(0, 0, 0, 0.3));\n",
              "      fill: #FFFFFF;\n",
              "    }\n",
              "  </style>\n",
              "\n",
              "      <script>\n",
              "        const buttonEl =\n",
              "          document.querySelector('#df-8ca44d14-6861-48ca-9e0b-16c4a76e17f9 button.colab-df-convert');\n",
              "        buttonEl.style.display =\n",
              "          google.colab.kernel.accessAllowed ? 'block' : 'none';\n",
              "\n",
              "        async function convertToInteractive(key) {\n",
              "          const element = document.querySelector('#df-8ca44d14-6861-48ca-9e0b-16c4a76e17f9');\n",
              "          const dataTable =\n",
              "            await google.colab.kernel.invokeFunction('convertToInteractive',\n",
              "                                                     [key], {});\n",
              "          if (!dataTable) return;\n",
              "\n",
              "          const docLinkHtml = 'Like what you see? Visit the ' +\n",
              "            '<a target=\"_blank\" href=https://colab.research.google.com/notebooks/data_table.ipynb>data table notebook</a>'\n",
              "            + ' to learn more about interactive tables.';\n",
              "          element.innerHTML = '';\n",
              "          dataTable['output_type'] = 'display_data';\n",
              "          await google.colab.output.renderOutput(dataTable, element);\n",
              "          const docLink = document.createElement('div');\n",
              "          docLink.innerHTML = docLinkHtml;\n",
              "          element.appendChild(docLink);\n",
              "        }\n",
              "      </script>\n",
              "    </div>\n",
              "  </div>\n",
              "  "
            ]
          },
          "metadata": {},
          "execution_count": 20
        }
      ]
    },
    {
      "cell_type": "code",
      "source": [
        "len(df.index)"
      ],
      "metadata": {
        "colab": {
          "base_uri": "https://localhost:8080/"
        },
        "id": "Y1Z8tdailgy5",
        "outputId": "5b6775c1-7a09-427d-ec37-cfc39c10f6f9"
      },
      "execution_count": null,
      "outputs": [
        {
          "output_type": "execute_result",
          "data": {
            "text/plain": [
              "298"
            ]
          },
          "metadata": {},
          "execution_count": 21
        }
      ]
    },
    {
      "cell_type": "markdown",
      "metadata": {
        "id": "4vo0N0iKp32y"
      },
      "source": [
        "## Activity\n",
        "**TEXT:**\n",
        "> Halo semua, namaku Andy Joe. Kemarin smartphoneku mendapat SMS tagihan Pinjaman Online dari nomor 08004398499. Selain itu emailku juga mendapatkan pesan serupa dari debtcollector@pinjolninuninu.com. Ternyata salah satu temanku menjadikan nomor telepon dan emailku sebagai penanggungjawab pinjaman onlinenya :(. Tak lama sosok pria berbadan bongsor datang ke rumahku dengan menggunakan mogenya. Ia menanyakan keberadaan temanku yang meminjam uang di perusahaan Pinjol tersebut. Aku yang tak tahu keberadaannya pun menjawab apa adanya. Tak lama kemudian pria tersebut pergi dan segera kuambil gambar mogenya dengan  plat PO 3030 AY. Setelah itu aku menghubungi temanku dan meminta penjelasan kepadanya.\n",
        ">\n",
        "---\n",
        "### 1. Buatlah format pesan kepada teman Andy Joe untuk meminta penjelasan terkait dengan situasi yang sedang terjadi. (ganti teks yang cetak miring dan tebal menjadi nomor debtcollector, email debtcollector dan plat nomor)\n",
        ">\n",
        "\n",
        "**Format Pesan:**\n",
        "> \"*Halo xxxxx, Aku tadi habis didatangi debtcollector. Dia mengirimiku pesan lewat nomornya yaitu **nomor_debtcollector** dan email **email_debtcollector**. Dia bilang kamu jadiin nomorku dan emailku sebagai penanggungjawab. Bisa tolong jelasin? Terus aku tadi juga sempet foto motor yg dipake mas debtcollector. Plat nomornya **plat_nomor_debtcollector**.*\"\n",
        "\n",
        "\n",
        "### 2. Buatlah preprocessing sederhana dengan menghilangkan karakter titik, koma dan tanda tanya dari format pesan yang sudah dibuat (Di nomor 1)"
      ]
    },
    {
      "cell_type": "code",
      "metadata": {
        "id": "IGWvnlpwoP8f"
      },
      "source": [
        "text = \"Halo semua, namaku Andy Joe. Kemarin smartphoneku mendapat SMS tagihan Pinjaman Online dari nomor 08004398499. Selain itu emailku juga mendapatkan pesan serupa dari debtcollector@pinjolninuninu.com. Ternyata salah satu temanku menjadikan nomor telepon dan emailku sebagai penanggungjawab pinjaman onlinenya :(. Tak lama sosok pria berbadan bongsor datang ke rumahku dengan menggunakan mogenya. Ia menanyakan keberadaan temanku yang meminjam uang di perusahaan Pinjol tersebut. Aku yang tak tahu keberadaannya pun menjawab apa adanya. Tak lama kemudian pria tersebut pergi dan segera kuambil gambar mogenya dengan plat PO 3030 AY. Setelah itu aku menghubungi temanku dan meminta penjelasan kepadanya.\""
      ],
      "execution_count": null,
      "outputs": []
    },
    {
      "cell_type": "code",
      "metadata": {
        "id": "zaHCCY6RsvqU"
      },
      "source": [
        "# Jawaban Nomor 1\n"
      ],
      "execution_count": null,
      "outputs": []
    },
    {
      "cell_type": "code",
      "metadata": {
        "colab": {
          "base_uri": "https://localhost:8080/",
          "height": 200
        },
        "id": "da6pqZ6s3B7_",
        "outputId": "d0c246c9-ddb0-47b1-84a9-d5c28fdf476f"
      },
      "source": [
        "# Jawaban Nomor 2\n",
        "result = re.sub(r'[.,?]', '', format_pesan)\n",
        "print(result)"
      ],
      "execution_count": null,
      "outputs": [
        {
          "output_type": "error",
          "ename": "NameError",
          "evalue": "ignored",
          "traceback": [
            "\u001b[0;31m---------------------------------------------------------------------------\u001b[0m",
            "\u001b[0;31mNameError\u001b[0m                                 Traceback (most recent call last)",
            "\u001b[0;32m<ipython-input-24-087e1ae066e6>\u001b[0m in \u001b[0;36m<module>\u001b[0;34m()\u001b[0m\n\u001b[1;32m      1\u001b[0m \u001b[0;31m# Jawaban Nomor 2\u001b[0m\u001b[0;34m\u001b[0m\u001b[0;34m\u001b[0m\u001b[0;34m\u001b[0m\u001b[0m\n\u001b[0;32m----> 2\u001b[0;31m \u001b[0mresult\u001b[0m \u001b[0;34m=\u001b[0m \u001b[0mre\u001b[0m\u001b[0;34m.\u001b[0m\u001b[0msub\u001b[0m\u001b[0;34m(\u001b[0m\u001b[0;34mr'[.,?]'\u001b[0m\u001b[0;34m,\u001b[0m \u001b[0;34m''\u001b[0m\u001b[0;34m,\u001b[0m \u001b[0mformat_pesan\u001b[0m\u001b[0;34m)\u001b[0m\u001b[0;34m\u001b[0m\u001b[0;34m\u001b[0m\u001b[0m\n\u001b[0m\u001b[1;32m      3\u001b[0m \u001b[0mprint\u001b[0m\u001b[0;34m(\u001b[0m\u001b[0mresult\u001b[0m\u001b[0;34m)\u001b[0m\u001b[0;34m\u001b[0m\u001b[0;34m\u001b[0m\u001b[0m\n",
            "\u001b[0;31mNameError\u001b[0m: name 'format_pesan' is not defined"
          ]
        }
      ]
    },
    {
      "cell_type": "markdown",
      "metadata": {
        "id": "TsPheuYCojsk"
      },
      "source": [
        ""
      ]
    }
  ]
}